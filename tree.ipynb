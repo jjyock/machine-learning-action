{
 "cells": [
  {
   "cell_type": "markdown",
   "metadata": {},
   "source": [
    "数据集："
   ]
  },
  {
   "cell_type": "code",
   "execution_count": 5,
   "metadata": {},
   "outputs": [],
   "source": [
    "dataSet = [[1, 1, 'yes'],\n",
    "               [1, 1, 'yes'],\n",
    "               [1, 0, 'no'],\n",
    "               [0, 1, 'no'],\n",
    "               [0, 1, 'no']]\n",
    "labels = ['no surfacing','flippers']\n"
   ]
  },
  {
   "cell_type": "code",
   "execution_count": 15,
   "metadata": {},
   "outputs": [],
   "source": [
    "import numpy as np"
   ]
  },
  {
   "cell_type": "markdown",
   "metadata": {},
   "source": [
    "香农熵计算公式：\n",
    "$$H=-\\sum_{i=1}^np(x_i)log_2p(x_i)$$"
   ]
  },
  {
   "cell_type": "code",
   "execution_count": 36,
   "metadata": {},
   "outputs": [],
   "source": [
    "def cal_shannon_ent(data):\n",
    "    num_entries=len(data)\n",
    "    label_counts={}\n",
    "    ##获得每个label出现的个数\n",
    "    for feat_vec in data:\n",
    "        #print(feat_vec)\n",
    "        current_label=feat_vec[-1]\n",
    "        if current_label not in label_counts:\n",
    "            label_counts[current_label]=1\n",
    "        else:\n",
    "            label_counts[current_label]+=1\n",
    "    shannon_ent=0\n",
    "   # print(label_counts)\n",
    "    for key in label_counts:\n",
    "        prob = label_counts[key]/num_entries\n",
    "        shannon_ent-=prob*np.log2(prob)\n",
    "    return shannon_ent"
   ]
  },
  {
   "cell_type": "code",
   "execution_count": 37,
   "metadata": {},
   "outputs": [
    {
     "data": {
      "text/plain": [
       "0.9709505944546686"
      ]
     },
     "execution_count": 37,
     "metadata": {},
     "output_type": "execute_result"
    }
   ],
   "source": [
    "cal_shannon_ent(dataSet)"
   ]
  },
  {
   "cell_type": "code",
   "execution_count": 26,
   "metadata": {},
   "outputs": [],
   "source": [
    "def split_data(data,axis,value):\n",
    "    ret_data=[]\n",
    "    for feat_vect in data:\n",
    "        if feat_vect[axis]==value:\n",
    "            reduced_faeture=feat_vect[:axis]\n",
    "            reduced_faeture.extend(feat_vect[axis+1:])\n",
    "            ret_data.append(reduced_faeture)\n",
    "    return ret_data"
   ]
  },
  {
   "cell_type": "code",
   "execution_count": 32,
   "metadata": {},
   "outputs": [
    {
     "data": {
      "text/plain": [
       "[[1, 'no'], [1, 'no']]"
      ]
     },
     "execution_count": 32,
     "metadata": {},
     "output_type": "execute_result"
    }
   ],
   "source": [
    "dataSet = [[1, 1, 'yes'],\n",
    "               [1, 1, 'yes'],\n",
    "               [1, 0, 'no'],\n",
    "               [0, 1, 'no'],\n",
    "               [0, 1, 'no']]\n",
    "split_data(dataSet,0,0)"
   ]
  },
  {
   "cell_type": "code",
   "execution_count": 42,
   "metadata": {},
   "outputs": [],
   "source": [
    "def choose_best_feature(data):\n",
    "    num_features = len(data[0])-1\n",
    "    base_ent = cal_shannon_ent(data)\n",
    "    best_info_gain = 0\n",
    "    best_feature = 1\n",
    "    for i in range(num_features):\n",
    "        \n",
    "        feat_list  =  [x[i] for x in data]\n",
    "        unique_value = set(feat_list)\n",
    "        new_ent = 0\n",
    "        # 计算每种划分方式的信息熵\n",
    "        for value in unique_value:\n",
    "            sub_data = split_data(data,i,value)\n",
    "            prob = len(sub_data)/len(data)\n",
    "            new_ent += prob*cal_shannon_ent(sub_data)\n",
    "        info_gain = base_ent-new_ent\n",
    "        # 选择最好的划分特征\n",
    "        print(i,new_ent)\n",
    "        if info_gain > best_info_gain:\n",
    "            best_info_gain = info_gain\n",
    "            best_feature = i\n",
    "    return best_feature\n",
    "            "
   ]
  },
  {
   "cell_type": "code",
   "execution_count": 43,
   "metadata": {},
   "outputs": [
    {
     "name": "stdout",
     "output_type": "stream",
     "text": [
      "0 0.5509775004326937\n",
      "1 0.8\n"
     ]
    },
    {
     "data": {
      "text/plain": [
       "0"
      ]
     },
     "execution_count": 43,
     "metadata": {},
     "output_type": "execute_result"
    }
   ],
   "source": [
    "choose_best_feature(dataSet)"
   ]
  },
  {
   "cell_type": "code",
   "execution_count": 65,
   "metadata": {},
   "outputs": [],
   "source": [
    "import operator\n",
    "def majority_cnt(class_list):\n",
    "    class_count={}\n",
    "    for vote in class_list:\n",
    "        if vote not in class_count:\n",
    "            class_count[vote] = 1\n",
    "        else:\n",
    "            class_count[vote] += 1\n",
    "            \n",
    "    sorted_calss_cnt = sorted(class_count.keys(),key=operator.itemgetter(1),reverse=True)\n",
    "    print('s',sorted_calss_cnt)\n",
    "    return sorted_calss_cnt[0][0]"
   ]
  },
  {
   "cell_type": "code",
   "execution_count": 66,
   "metadata": {},
   "outputs": [],
   "source": [
    "def create_tree(data,label):\n",
    "    labels=label[:]\n",
    "    class_list= [x[-1] for x in data]\n",
    "    #当所有值一样时停止\n",
    "    if class_list.count(class_list[0]) == len(class_list):\n",
    "        return class_list[0]\n",
    "    if len(data[0])==1:\n",
    "        return majority_cnt(class_list)\n",
    "    best_feat = choose_best_feature(data)\n",
    "    best_feat_label =labels[best_feat]\n",
    "    my_tree = {best_feat_label:{}}\n",
    "    del labels[best_feat]\n",
    "    feat_value = [x[best_feat] for x in data]\n",
    "    unique_value = set(feat_value)\n",
    "    for value in unique_value:\n",
    "        sub_label = labels[:]\n",
    "        my_tree[best_feat_label][value] = create_tree(split_data(data,best_feat,value),sub_label)\n",
    "    return my_tree"
   ]
  },
  {
   "cell_type": "code",
   "execution_count": 67,
   "metadata": {},
   "outputs": [
    {
     "name": "stdout",
     "output_type": "stream",
     "text": [
      "0 0.5509775004326937\n",
      "1 0.8\n",
      "0 0.0\n"
     ]
    },
    {
     "data": {
      "text/plain": [
       "{'no surfacing': {0: 'no', 1: {'flippers': {0: 'no', 1: 'yes'}}}}"
      ]
     },
     "execution_count": 67,
     "metadata": {},
     "output_type": "execute_result"
    }
   ],
   "source": [
    "create_tree(dataSet,labels)"
   ]
  },
  {
   "cell_type": "code",
   "execution_count": 80,
   "metadata": {},
   "outputs": [],
   "source": [
    "def classify(input_tree,feat_labels,test_vec):\n",
    "    first_str=list(input_tree.keys())[0]\n",
    "    second_dict= input_tree[first_str]\n",
    "    feat_index = feat_labels.index(first_str)\n",
    "    for key in second_dict.keys():\n",
    "        if test_vec[feat_index] == key:\n",
    "            if type(second_dict[key]).__name__ == 'dict':\n",
    "                class_label = classify(second_dict[key],feat_labels,test_vec)\n",
    "            else:\n",
    "                class_label = second_dict[key]\n",
    "    return class_label"
   ]
  },
  {
   "cell_type": "code",
   "execution_count": 70,
   "metadata": {},
   "outputs": [
    {
     "name": "stdout",
     "output_type": "stream",
     "text": [
      "0 0.5509775004326937\n",
      "1 0.8\n",
      "0 0.0\n"
     ]
    }
   ],
   "source": [
    "my_tree = create_tree(dataSet,labels)"
   ]
  },
  {
   "cell_type": "code",
   "execution_count": 79,
   "metadata": {},
   "outputs": [
    {
     "data": {
      "text/plain": [
       "['no surfacing']"
      ]
     },
     "execution_count": 79,
     "metadata": {},
     "output_type": "execute_result"
    }
   ],
   "source": [
    "list(my_tree.keys())"
   ]
  },
  {
   "cell_type": "code",
   "execution_count": 83,
   "metadata": {},
   "outputs": [
    {
     "name": "stdout",
     "output_type": "stream",
     "text": [
      "0 0.5509775004326937\n",
      "1 0.8\n",
      "0 0.0\n"
     ]
    },
    {
     "data": {
      "text/plain": [
       "'no'"
      ]
     },
     "execution_count": 83,
     "metadata": {},
     "output_type": "execute_result"
    }
   ],
   "source": [
    "classify(create_tree(dataSet,labels),labels,[0,0])"
   ]
  },
  {
   "cell_type": "code",
   "execution_count": 82,
   "metadata": {},
   "outputs": [
    {
     "data": {
      "text/plain": [
       "[[1, 1, 'yes'], [1, 1, 'yes'], [1, 0, 'no'], [0, 1, 'no'], [0, 1, 'no']]"
      ]
     },
     "execution_count": 82,
     "metadata": {},
     "output_type": "execute_result"
    }
   ],
   "source": [
    "dataSet"
   ]
  },
  {
   "cell_type": "code",
   "execution_count": null,
   "metadata": {},
   "outputs": [],
   "source": []
  }
 ],
 "metadata": {
  "kernelspec": {
   "display_name": "jianye",
   "language": "python",
   "name": "jianye"
  },
  "language_info": {
   "codemirror_mode": {
    "name": "ipython",
    "version": 3
   },
   "file_extension": ".py",
   "mimetype": "text/x-python",
   "name": "python",
   "nbconvert_exporter": "python",
   "pygments_lexer": "ipython3",
   "version": "3.6.5"
  }
 },
 "nbformat": 4,
 "nbformat_minor": 2
}
